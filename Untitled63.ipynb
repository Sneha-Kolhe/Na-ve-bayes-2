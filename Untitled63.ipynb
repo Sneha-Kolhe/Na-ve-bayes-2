{
 "cells": [
  {
   "cell_type": "markdown",
   "id": "4a33e898-830d-4430-a09a-270b7fe845e9",
   "metadata": {},
   "source": [
    "## Q1. What is the difference between Bernoulli Naive Bayes and Multinomial Naive Bayes?"
   ]
  },
  {
   "cell_type": "code",
   "execution_count": null,
   "id": "69dbd22f-6a03-4f2a-a9d6-80000e6f773e",
   "metadata": {},
   "outputs": [],
   "source": [
    "\n",
    "The difference between Bernoulli Naive Bayes and Multinomial Naive Bayes lies in the type of distribution they assume for the features and how they handle the occurrence of feature values.\n",
    "\n",
    "Bernoulli Naive Bayes:\n",
    "\n",
    "Bernoulli Naive Bayes assumes that features are binary variables, meaning they take on values of either 0 or 1.\n",
    "It is commonly used for document classification tasks where the presence or absence of words (features) is considered, typically in binary bag-of-words representations.\n",
    "In Bernoulli Naive Bayes, each feature represents the presence (1) or absence (0) of a term in the document.\n",
    "It models the likelihood of features (words) occurring in documents given the class labels.\n",
    "Multinomial Naive Bayes:\n",
    "\n",
    "Multinomial Naive Bayes assumes that features represent counts or frequencies of occurrences of various outcomes.\n",
    "It is commonly used for text classification tasks where features represent word frequencies or term frequencies (TF), often in the form of TF-IDF (Term Frequency-Inverse Document Frequency) vectors.\n",
    "In Multinomial Naive Bayes, each feature represents the frequency of a term in the document.\n",
    "It models the likelihood of features (words) occurring in documents given the class labels.\n",
    "In summary, the key difference between Bernoulli Naive Bayes and Multinomial Naive Bayes lies in the type of features they handle. Bernoulli Naive Bayes is suited for binary features (presence/absence), while Multinomial Naive Bayes is suited for count-based features (frequencies of occurrences). The choice between them depends on the nature of the features and the specific task at hand, such as document classification or text analysis."
   ]
  },
  {
   "cell_type": "code",
   "execution_count": null,
   "id": "4896138c-0730-4778-abc4-c01533ccef89",
   "metadata": {},
   "outputs": [],
   "source": [
    "## Q2. How does Bernoulli Naive Bayes handle missing values?"
   ]
  }
 ],
 "metadata": {
  "kernelspec": {
   "display_name": "Python 3 (ipykernel)",
   "language": "python",
   "name": "python3"
  },
  "language_info": {
   "codemirror_mode": {
    "name": "ipython",
    "version": 3
   },
   "file_extension": ".py",
   "mimetype": "text/x-python",
   "name": "python",
   "nbconvert_exporter": "python",
   "pygments_lexer": "ipython3",
   "version": "3.10.8"
  }
 },
 "nbformat": 4,
 "nbformat_minor": 5
}
